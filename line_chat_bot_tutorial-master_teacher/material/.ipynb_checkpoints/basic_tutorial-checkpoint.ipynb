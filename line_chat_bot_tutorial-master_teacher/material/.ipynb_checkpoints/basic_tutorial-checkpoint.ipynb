{
 "cells": [
  {
   "cell_type": "code",
   "execution_count": 1,
   "metadata": {},
   "outputs": [
    {
     "data": {
      "text/plain": [
       "'\\n創建變數\\n\\nexample \\n\\niAmIntegerVariable = 1\\n\\niAmStringVariable = \"hello i am string\"\\n\\n'"
      ]
     },
     "execution_count": 1,
     "metadata": {},
     "output_type": "execute_result"
    }
   ],
   "source": [
    "'''\n",
    "創建變數\n",
    "\n",
    "example \n",
    "\n",
    "iAmIntegerVariable = 1\n",
    "\n",
    "iAmStringVariable = \"hello i am string\"\n",
    "\n",
    "'''"
   ]
  },
  {
   "cell_type": "code",
   "execution_count": 2,
   "metadata": {},
   "outputs": [
    {
     "data": {
      "text/plain": [
       "'\\n\\n練習\\n\\n'"
      ]
     },
     "execution_count": 2,
     "metadata": {},
     "output_type": "execute_result"
    }
   ],
   "source": [
    "'''\n",
    "\n",
    "練習\n",
    "\n",
    "'''"
   ]
  },
  {
   "cell_type": "code",
   "execution_count": 3,
   "metadata": {},
   "outputs": [
    {
     "data": {
      "text/plain": [
       "'\\n\\n引用套件\\n\\n套件可以假想成是別人做好的便利工具包\\n\\nimport requests\\n\\nfrom flask import Flask\\n\\n'"
      ]
     },
     "execution_count": 3,
     "metadata": {},
     "output_type": "execute_result"
    }
   ],
   "source": [
    "'''\n",
    "\n",
    "引用套件\n",
    "\n",
    "套件可以假想成是別人做好的便利工具包\n",
    "\n",
    "import requests\n",
    "\n",
    "from flask import Flask\n",
    "\n",
    "'''"
   ]
  },
  {
   "cell_type": "code",
   "execution_count": 4,
   "metadata": {},
   "outputs": [
    {
     "data": {
      "text/plain": [
       "'\\n\\n練習\\n\\n嘗試安裝一個套件，並import\\n\\n'"
      ]
     },
     "execution_count": 4,
     "metadata": {},
     "output_type": "execute_result"
    }
   ],
   "source": [
    "'''\n",
    "\n",
    "練習\n",
    "\n",
    "嘗試安裝一個套件，並import\n",
    "\n",
    "'''"
   ]
  },
  {
   "cell_type": "code",
   "execution_count": 5,
   "metadata": {},
   "outputs": [
    {
     "name": "stdout",
     "output_type": "stream",
     "text": [
      "Collecting examplePackage\n",
      "  Downloading ExamplePackage-0.1.3.zip (2.7 kB)\n",
      "Using legacy setup.py install for examplePackage, since package 'wheel' is not installed.\n",
      "Installing collected packages: examplePackage\n",
      "    Running setup.py install for examplePackage: started\n",
      "    Running setup.py install for examplePackage: finished with status 'done'\n",
      "Successfully installed examplePackage-0.1.3\n"
     ]
    }
   ],
   "source": [
    "# 安裝套件之範例\n",
    "!pip install examplePackage"
   ]
  },
  {
   "cell_type": "code",
   "execution_count": 6,
   "metadata": {},
   "outputs": [
    {
     "data": {
      "text/plain": [
       "'\\n迴圈\\n\\n寫程式可以處理大量有pattern的事情，此刻便會探討到迴圈的概念\\n\\nfor loop \\n\\nfor x in range(0, 3):\\n    print(x)\\n\\n'"
      ]
     },
     "execution_count": 6,
     "metadata": {},
     "output_type": "execute_result"
    }
   ],
   "source": [
    "'''\n",
    "迴圈\n",
    "\n",
    "寫程式可以處理大量有pattern的事情，此刻便會探討到迴圈的概念\n",
    "\n",
    "for loop \n",
    "\n",
    "for x in range(0, 3):\n",
    "    print(x)\n",
    "\n",
    "'''\n"
   ]
  },
  {
   "cell_type": "code",
   "execution_count": 7,
   "metadata": {},
   "outputs": [],
   "source": [
    "'''\n",
    "\n",
    "創造類別\n",
    "\n",
    "class Animal():\n",
    "    def __init__(self, name):\n",
    "        self.name = name\n",
    "\n",
    "'''\n",
    "\n",
    "class Animal():\n",
    "    def __init__(self, name):\n",
    "        self.name = name"
   ]
  },
  {
   "cell_type": "code",
   "execution_count": 8,
   "metadata": {},
   "outputs": [
    {
     "name": "stdout",
     "output_type": "stream",
     "text": [
      "小明\n"
     ]
    }
   ],
   "source": [
    "'''\n",
    "\n",
    "使用此類別創造變數\n",
    "\n",
    "'''\n",
    "\n",
    "iAmAnimal = Animal(\"小明\")\n",
    "\n",
    "print(iAmAnimal.name)"
   ]
  },
  {
   "cell_type": "code",
   "execution_count": 9,
   "metadata": {},
   "outputs": [
    {
     "data": {
      "text/plain": [
       "'\\n練習\\n\\n創造一個Person類別\\n\\n裡面必須要有 姓名屬性(name) 年齡屬性（age）\\n\\n並用此類別創造一個實體\\n\\n'"
      ]
     },
     "execution_count": 9,
     "metadata": {},
     "output_type": "execute_result"
    }
   ],
   "source": [
    "'''\n",
    "練習\n",
    "\n",
    "創造一個Person類別\n",
    "\n",
    "裡面必須要有 姓名屬性(name) 年齡屬性（age）\n",
    "\n",
    "並用此類別創造一個實體\n",
    "\n",
    "'''"
   ]
  },
  {
   "cell_type": "code",
   "execution_count": null,
   "metadata": {},
   "outputs": [],
   "source": [
    "d"
   ]
  }
 ],
 "metadata": {
  "kernelspec": {
   "display_name": "Python 3",
   "language": "python",
   "name": "python3"
  },
  "language_info": {
   "codemirror_mode": {
    "name": "ipython",
    "version": 3
   },
   "file_extension": ".py",
   "mimetype": "text/x-python",
   "name": "python",
   "nbconvert_exporter": "python",
   "pygments_lexer": "ipython3",
   "version": "3.7.4"
  }
 },
 "nbformat": 4,
 "nbformat_minor": 2
}
